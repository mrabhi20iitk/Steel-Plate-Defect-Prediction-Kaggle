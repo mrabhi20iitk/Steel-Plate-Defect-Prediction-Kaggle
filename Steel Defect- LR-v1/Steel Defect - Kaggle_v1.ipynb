{
 "cells": [
  {
   "cell_type": "code",
   "execution_count": null,
   "metadata": {},
   "outputs": [],
   "source": [
    "import numpy as np\n",
    "import pandas as pd\n",
    "from sklearn.model_selection import train_test_split\n",
    "pd.set_option('display.precision',2)"
   ]
  },
  {
   "cell_type": "code",
   "execution_count": null,
   "id": "f2dd0460",
   "metadata": {},
   "outputs": [],
   "source": [
    "train = pd.read_csv('train.csv',index_col= \"id\")\n",
    "test = pd.read_csv('test.csv',index_col=\"id\")"
   ]
  },
  {
   "cell_type": "code",
   "execution_count": null,
   "id": "2dfa0760",
   "metadata": {},
   "outputs": [],
   "source": [
    "print(\"shape of training data:\", train.shape)\n",
    "print(\"shape of test data\", test.shape)"
   ]
  },
  {
   "cell_type": "code",
   "execution_count": null,
   "id": "0b933bf9",
   "metadata": {},
   "outputs": [],
   "source": [
    "cols = [\"Pastry\",\"Z_Scratch\",\"K_Scatch\",\"Stains\",\"Dirtiness\",\"Bumps\",\"Other_Faults\"]\n",
    "X  = train.drop(cols,axis=1)\n",
    "y = train[cols]"
   ]
  },
  {
   "cell_type": "code",
   "execution_count": null,
   "id": "a53d8ae5",
   "metadata": {},
   "outputs": [],
   "source": [
    "y.head()"
   ]
  },
  {
   "cell_type": "code",
   "execution_count": null,
   "id": "0af74543",
   "metadata": {},
   "outputs": [],
   "source": [
    "X.head()"
   ]
  },
  {
   "cell_type": "code",
   "execution_count": null,
   "id": "943243c7",
   "metadata": {},
   "outputs": [],
   "source": [
    "X.isnull().values.any()\n",
    "X.describe()"
   ]
  },
  {
   "cell_type": "code",
   "execution_count": null,
   "id": "7883c868",
   "metadata": {},
   "outputs": [],
   "source": [
    "from sklearn.preprocessing import Normalizer\n",
    "train_df = (X- X.min())/X.std()\n",
    "test_df = (test - test.min())/test.std()\n"
   ]
  },
  {
   "cell_type": "code",
   "execution_count": null,
   "id": "1b4d8467",
   "metadata": {},
   "outputs": [],
   "source": [
    "df = pd.DataFrame(columns=cols,index=test.index)\n",
    "print(df.shape)\n",
    "df.head()"
   ]
  },
  {
   "cell_type": "code",
   "execution_count": null,
   "id": "70b078a1",
   "metadata": {},
   "outputs": [],
   "source": [
    "from sklearn.linear_model import LogisticRegression\n",
    "\n",
    "for i in cols:\n",
    "    model = LogisticRegression(max_iter=1000)\n",
    "    model.fit(train_df,y[i])\n",
    "    pred = model.predict_proba(test_df)\n",
    "    df[i] = pred[:,1]\n",
    "   \n"
   ]
  },
  {
   "cell_type": "code",
   "execution_count": null,
   "id": "f43a57b1",
   "metadata": {},
   "outputs": [],
   "source": [
    "model = LogisticRegression(max_iter=1000)\n",
    "model.fit(train_df,y[\"Z_Scratch\"])\n",
    "y_pred= model.predict_proba(test_df)[:,1]\n",
    "y_pred"
   ]
  },
  {
   "cell_type": "code",
   "execution_count": null,
   "id": "32984118",
   "metadata": {},
   "outputs": [],
   "source": [
    "print(df.shape)\n",
    "df.head(-5)"
   ]
  },
  {
   "cell_type": "code",
   "execution_count": null,
   "id": "fb0a36df",
   "metadata": {},
   "outputs": [],
   "source": [
    "submission = pd.DataFrame({\n",
    "    'id': test.index,\n",
    "    'Pastry': df.Pastry,\n",
    "    'Z_Scratch': df.Z_Scratch,\n",
    "    'K_Scatch': df.K_Scatch,\n",
    "    'Stains': df.Stains,\n",
    "    'Dirtiness': df.Dirtiness,\n",
    "    'Bumps': df.Bumps,\n",
    "    'Other_Faults': df.Other_Faults\n",
    "})"
   ]
  },
  {
   "cell_type": "code",
   "execution_count": null,
   "id": "6466b9b1",
   "metadata": {},
   "outputs": [],
   "source": [
    "submission.head()"
   ]
  },
  {
   "cell_type": "code",
   "execution_count": null,
   "id": "3dde05b9",
   "metadata": {},
   "outputs": [],
   "source": [
    "submission.to_csv('submission.csv',index=False)"
   ]
  },
  {
   "cell_type": "code",
   "execution_count": null,
   "id": "e31194ec",
   "metadata": {},
   "outputs": [],
   "source": []
  },
  {
   "cell_type": "code",
   "execution_count": null,
   "id": "e9cd85b0",
   "metadata": {},
   "outputs": [],
   "source": []
  }
 ],
 "metadata": {
  "kernelspec": {
   "display_name": "Python 3",
   "language": "python",
   "name": "python3"
  },
  "language_info": {
   "codemirror_mode": {
    "name": "ipython",
    "version": 3
   },
   "file_extension": ".py",
   "mimetype": "text/x-python",
   "name": "python",
   "nbconvert_exporter": "python",
   "pygments_lexer": "ipython3",
   "version": "3.10.10"
  }
 },
 "nbformat": 4,
 "nbformat_minor": 5
}
